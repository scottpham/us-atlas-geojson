{
 "cells": [
  {
   "cell_type": "code",
   "execution_count": 1,
   "metadata": {},
   "outputs": [],
   "source": [
    "import pandas as pd\n",
    "import geopandas as gpd\n",
    "from matplotlib import pyplot as plt\n",
    "import os"
   ]
  },
  {
   "cell_type": "markdown",
   "metadata": {},
   "source": [
    "## Counties"
   ]
  },
  {
   "cell_type": "code",
   "execution_count": 2,
   "metadata": {},
   "outputs": [],
   "source": [
    "# Load fips codes from census\n",
    "state_fips = (\n",
    "    pd.read_csv(\n",
    "        \"data/state_fips.txt\", \n",
    "        delimiter=\"|\",\n",
    "        dtype=\"str\",\n",
    "    )\n",
    "    .rename(\n",
    "        columns = {\n",
    "            \"STATE\": \"STATEFP\"\n",
    "        }\n",
    "    )\n",
    ")\n"
   ]
  },
  {
   "cell_type": "code",
   "execution_count": 3,
   "metadata": {},
   "outputs": [],
   "source": [
    "# load county geojson\n",
    "counties = gpd.read_file(\"data/counties-geojson.json\").drop(\n",
    "    columns = [\"AFFGEOID\", \"GEOID\", \"LSAD\", \"ALAND\", \"AWATER\"]\n",
    ")\n",
    "\n",
    "# find center of plot and flip y axis\n",
    "\n",
    "b = counties.total_bounds\n",
    "\n",
    "center = (\n",
    "    (b[0] + b[2]/2), \n",
    "    (b[1] + b[3]/2)\n",
    ")\n",
    "\n",
    "# Flip y-axis of geometry column\n",
    "counties['geometry'] = counties.scale(\n",
    "     yfact = -1,\n",
    "     origin = center\n",
    ")"
   ]
  },
  {
   "cell_type": "code",
   "execution_count": 4,
   "metadata": {},
   "outputs": [],
   "source": [
    "# make a destination folder\n",
    "try:\n",
    "    os.mkdir(\"output/counties\")\n",
    "except FileExistsError:\n",
    "    pass"
   ]
  },
  {
   "cell_type": "code",
   "execution_count": 5,
   "metadata": {},
   "outputs": [],
   "source": [
    "# merge geodataframe with fips file and write out \n",
    "(\n",
    "    counties.merge(\n",
    "        state_fips,\n",
    "        how = \"left\",\n",
    "        on = \"STATEFP\"\n",
    "    )\n",
    "    .rename(\n",
    "        columns = {\n",
    "            \"STATEFP\": \"state_fips\",\n",
    "            \"COUNTYFP\": \"county_fips\",\n",
    "            \"COUNTYNS\": \"county_gnis\",\n",
    "            \"NAME\": \"county_name\",\n",
    "            \"STUSAB\": \"state_abv\",\n",
    "            \"STATE_NAME\": \"state_name\",\n",
    "            \"STATENS\": \"state_gnis\"\n",
    "        }\n",
    "     )\n",
    "    .to_file(\n",
    "        \"output/counties/counties.shp\"\n",
    "    )\n",
    ")"
   ]
  },
  {
   "cell_type": "markdown",
   "metadata": {},
   "source": [
    "## States"
   ]
  },
  {
   "cell_type": "code",
   "execution_count": 6,
   "metadata": {},
   "outputs": [],
   "source": [
    "# load states geojson\n",
    "states = gpd.read_file(\"data/states-geojson.json\").drop(\n",
    "    columns = [\"AFFGEOID\", \"GEOID\", \"LSAD\", \"ALAND\", \"AWATER\"]\n",
    ")\n",
    "\n",
    "# find center of plot and flip y axis\n",
    "\n",
    "b = states.total_bounds\n",
    "\n",
    "center = (\n",
    "    (b[0] + b[2]/2), \n",
    "    (b[1] + b[3]/2)\n",
    ")\n",
    "\n",
    "# Flip y-axis of geometry column\n",
    "states['geometry'] = states.scale(\n",
    "     yfact = -1,\n",
    "     origin = center\n",
    ")"
   ]
  },
  {
   "cell_type": "code",
   "execution_count": 7,
   "metadata": {},
   "outputs": [],
   "source": [
    "# make a destination folder\n",
    "try:\n",
    "    os.mkdir(\"output/states\")\n",
    "except FileExistsError:\n",
    "    pass"
   ]
  },
  {
   "cell_type": "code",
   "execution_count": 8,
   "metadata": {},
   "outputs": [],
   "source": [
    "# merge geodataframe with fips file and write out \n",
    "(\n",
    "    states.merge(\n",
    "        state_fips,\n",
    "        how = \"left\",\n",
    "        on = \"STATEFP\"\n",
    "    )\n",
    "    .drop(\n",
    "        columns = [\"COUNTYFP\", \"COUNTYNS\", \"NAME\"]\n",
    "    )\n",
    "    .rename(\n",
    "        columns = {\n",
    "            \"STATEFP\": \"state_fips\",\n",
    "            \"STUSAB\": \"state_abv\",\n",
    "            \"STATE_NAME\": \"state_name\",\n",
    "            \"STATENS\": \"state_gnis\"\n",
    "        }\n",
    "    )\n",
    "    .to_file(\n",
    "        \"output/states/states.shp\"\n",
    "    )\n",
    ")"
   ]
  },
  {
   "cell_type": "markdown",
   "metadata": {},
   "source": [
    "## Nation"
   ]
  },
  {
   "cell_type": "code",
   "execution_count": 9,
   "metadata": {},
   "outputs": [],
   "source": [
    "# load nation geojson\n",
    "nation = gpd.read_file(\"data/nation-geojson.json\")\n",
    "\n",
    "# find center of plot and flip y axis\n",
    "\n",
    "b = nation.total_bounds\n",
    "\n",
    "center = (\n",
    "    (b[0] + b[2]/2), \n",
    "    (b[1] + b[3]/2)\n",
    ")\n",
    "\n",
    "# Flip y-axis of geometry column\n",
    "nation['geometry'] = nation.scale(\n",
    "     yfact = -1,\n",
    "     origin = center\n",
    ")"
   ]
  },
  {
   "cell_type": "code",
   "execution_count": 10,
   "metadata": {},
   "outputs": [],
   "source": [
    "# make a destination folder\n",
    "try:\n",
    "    os.mkdir(\"output/nation\")\n",
    "except FileExistsError:\n",
    "    pass"
   ]
  },
  {
   "cell_type": "code",
   "execution_count": 11,
   "metadata": {},
   "outputs": [],
   "source": [
    "# merge geodataframe with fips file and write out (\n",
    "nation.to_file(\"output/nation/nation.shp\")"
   ]
  }
 ],
 "metadata": {
  "kernelspec": {
   "display_name": "Python 3",
   "language": "python",
   "name": "python3"
  },
  "language_info": {
   "codemirror_mode": {
    "name": "ipython",
    "version": 3
   },
   "file_extension": ".py",
   "mimetype": "text/x-python",
   "name": "python",
   "nbconvert_exporter": "python",
   "pygments_lexer": "ipython3",
   "version": "3.6.4"
  }
 },
 "nbformat": 4,
 "nbformat_minor": 2
}
