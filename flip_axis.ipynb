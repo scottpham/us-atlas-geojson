{
 "cells": [
  {
   "cell_type": "code",
   "execution_count": 40,
   "metadata": {},
   "outputs": [],
   "source": [
    "import pandas as pd\n",
    "import geopandas as gpd\n",
    "from matplotlib import pyplot as plt\n",
    "import os"
   ]
  },
  {
   "cell_type": "markdown",
   "metadata": {},
   "source": [
    "## Counties"
   ]
  },
  {
   "cell_type": "code",
   "execution_count": 31,
   "metadata": {},
   "outputs": [
    {
     "data": {
      "text/html": [
       "<div>\n",
       "<style scoped>\n",
       "    .dataframe tbody tr th:only-of-type {\n",
       "        vertical-align: middle;\n",
       "    }\n",
       "\n",
       "    .dataframe tbody tr th {\n",
       "        vertical-align: top;\n",
       "    }\n",
       "\n",
       "    .dataframe thead th {\n",
       "        text-align: right;\n",
       "    }\n",
       "</style>\n",
       "<table border=\"1\" class=\"dataframe\">\n",
       "  <thead>\n",
       "    <tr style=\"text-align: right;\">\n",
       "      <th></th>\n",
       "      <th>STATEFP</th>\n",
       "      <th>STUSAB</th>\n",
       "      <th>STATE_NAME</th>\n",
       "      <th>STATENS</th>\n",
       "    </tr>\n",
       "  </thead>\n",
       "  <tbody>\n",
       "    <tr>\n",
       "      <th>0</th>\n",
       "      <td>01</td>\n",
       "      <td>AL</td>\n",
       "      <td>Alabama</td>\n",
       "      <td>01779775</td>\n",
       "    </tr>\n",
       "  </tbody>\n",
       "</table>\n",
       "</div>"
      ],
      "text/plain": [
       "  STATEFP STUSAB STATE_NAME   STATENS\n",
       "0      01     AL    Alabama  01779775"
      ]
     },
     "execution_count": 31,
     "metadata": {},
     "output_type": "execute_result"
    }
   ],
   "source": [
    "# Load fips codes from census\n",
    "state_fips = (\n",
    "    pd.read_csv(\n",
    "        \"data/state_fips.txt\", \n",
    "        delimiter=\"|\",\n",
    "        dtype=\"str\",\n",
    "    )\n",
    "    .rename(\n",
    "        columns = {\n",
    "            \"STATE\": \"STATEFP\"\n",
    "        }\n",
    "    )\n",
    ")\n",
    "\n",
    "state_fips.head(1)"
   ]
  },
  {
   "cell_type": "code",
   "execution_count": 32,
   "metadata": {},
   "outputs": [],
   "source": [
    "# load county geojson\n",
    "counties = gpd.read_file(\"data/counties-geojson.json\").drop(\n",
    "    columns = [\"AFFGEOID\", \"GEOID\", \"LSAD\", \"ALAND\", \"AWATER\"]\n",
    ")\n",
    "\n",
    "# find center of plot and flip y axis\n",
    "\n",
    "b = counties.total_bounds\n",
    "\n",
    "center = (\n",
    "    (b[0] + b[2]/2), \n",
    "    (b[1] + b[3]/2)\n",
    ")\n",
    "\n",
    "# Flip y-axis of geometry column\n",
    "counties['geometry'] = counties.scale(\n",
    "     yfact = -1,\n",
    "     origin = center\n",
    ")"
   ]
  },
  {
   "cell_type": "code",
   "execution_count": 33,
   "metadata": {},
   "outputs": [
    {
     "data": {
      "text/html": [
       "<div>\n",
       "<style scoped>\n",
       "    .dataframe tbody tr th:only-of-type {\n",
       "        vertical-align: middle;\n",
       "    }\n",
       "\n",
       "    .dataframe tbody tr th {\n",
       "        vertical-align: top;\n",
       "    }\n",
       "\n",
       "    .dataframe thead th {\n",
       "        text-align: right;\n",
       "    }\n",
       "</style>\n",
       "<table border=\"1\" class=\"dataframe\">\n",
       "  <thead>\n",
       "    <tr style=\"text-align: right;\">\n",
       "      <th></th>\n",
       "      <th>id</th>\n",
       "      <th>STATEFP</th>\n",
       "      <th>COUNTYFP</th>\n",
       "      <th>COUNTYNS</th>\n",
       "      <th>NAME</th>\n",
       "      <th>geometry</th>\n",
       "    </tr>\n",
       "  </thead>\n",
       "  <tbody>\n",
       "    <tr>\n",
       "      <th>0</th>\n",
       "      <td>04015</td>\n",
       "      <td>04</td>\n",
       "      <td>015</td>\n",
       "      <td>00025445</td>\n",
       "      <td>Mohave</td>\n",
       "      <td>POLYGON ((172.6458858892796 310.210411054158, ...</td>\n",
       "    </tr>\n",
       "    <tr>\n",
       "      <th>1</th>\n",
       "      <td>22105</td>\n",
       "      <td>22</td>\n",
       "      <td>105</td>\n",
       "      <td>00559500</td>\n",
       "      <td>Tangipahoa</td>\n",
       "      <td>POLYGON ((594.0189129581094 151.4400278402344,...</td>\n",
       "    </tr>\n",
       "    <tr>\n",
       "      <th>2</th>\n",
       "      <td>16063</td>\n",
       "      <td>16</td>\n",
       "      <td>063</td>\n",
       "      <td>00395624</td>\n",
       "      <td>Lincoln</td>\n",
       "      <td>POLYGON ((191.0281654950103 452.5163668978029,...</td>\n",
       "    </tr>\n",
       "    <tr>\n",
       "      <th>3</th>\n",
       "      <td>27119</td>\n",
       "      <td>27</td>\n",
       "      <td>119</td>\n",
       "      <td>00659505</td>\n",
       "      <td>Polk</td>\n",
       "      <td>POLYGON ((473.1396811625132 534.2774157024993,...</td>\n",
       "    </tr>\n",
       "    <tr>\n",
       "      <th>4</th>\n",
       "      <td>38017</td>\n",
       "      <td>38</td>\n",
       "      <td>017</td>\n",
       "      <td>01034226</td>\n",
       "      <td>Cass</td>\n",
       "      <td>POLYGON ((464.3433755327998 513.7100319907453,...</td>\n",
       "    </tr>\n",
       "  </tbody>\n",
       "</table>\n",
       "</div>"
      ],
      "text/plain": [
       "      id STATEFP COUNTYFP  COUNTYNS        NAME  \\\n",
       "0  04015      04      015  00025445      Mohave   \n",
       "1  22105      22      105  00559500  Tangipahoa   \n",
       "2  16063      16      063  00395624     Lincoln   \n",
       "3  27119      27      119  00659505        Polk   \n",
       "4  38017      38      017  01034226        Cass   \n",
       "\n",
       "                                            geometry  \n",
       "0  POLYGON ((172.6458858892796 310.210411054158, ...  \n",
       "1  POLYGON ((594.0189129581094 151.4400278402344,...  \n",
       "2  POLYGON ((191.0281654950103 452.5163668978029,...  \n",
       "3  POLYGON ((473.1396811625132 534.2774157024993,...  \n",
       "4  POLYGON ((464.3433755327998 513.7100319907453,...  "
      ]
     },
     "execution_count": 33,
     "metadata": {},
     "output_type": "execute_result"
    }
   ],
   "source": [
    "counties.head()"
   ]
  },
  {
   "cell_type": "code",
   "execution_count": 34,
   "metadata": {},
   "outputs": [],
   "source": [
    "# make a destination folder\n",
    "try:\n",
    "    os.mkdir(\"output/counties\")\n",
    "except FileExistsError:\n",
    "    pass"
   ]
  },
  {
   "cell_type": "code",
   "execution_count": 37,
   "metadata": {},
   "outputs": [],
   "source": [
    "# merge geodataframe with fips file and write out \n",
    "(\n",
    "    counties.merge(\n",
    "        state_fips,\n",
    "        how = \"left\",\n",
    "        on = \"STATEFP\"\n",
    "    )\n",
    "    .rename(\n",
    "        columns = {\n",
    "            \"STATEFP\": \"state_fips\",\n",
    "            \"COUNTYFP\": \"county_fips\",\n",
    "            \"COUNTYNS\": \"county_gnis\",\n",
    "            \"NAME\": \"county_name\",\n",
    "            \"STUSAB\": \"state_abv\",\n",
    "            \"STATE_NAME\": \"state_name\",\n",
    "            \"STATENS\": \"state_gnis\"\n",
    "        }\n",
    "     )\n",
    "    .to_file(\n",
    "        \"output/counties/counties.shp\"\n",
    "    )\n",
    ")"
   ]
  },
  {
   "cell_type": "code",
   "execution_count": null,
   "metadata": {},
   "outputs": [],
   "source": []
  },
  {
   "cell_type": "code",
   "execution_count": null,
   "metadata": {},
   "outputs": [],
   "source": []
  }
 ],
 "metadata": {
  "kernelspec": {
   "display_name": "Python 3",
   "language": "python",
   "name": "python3"
  },
  "language_info": {
   "codemirror_mode": {
    "name": "ipython",
    "version": 3
   },
   "file_extension": ".py",
   "mimetype": "text/x-python",
   "name": "python",
   "nbconvert_exporter": "python",
   "pygments_lexer": "ipython3",
   "version": "3.6.4"
  }
 },
 "nbformat": 4,
 "nbformat_minor": 2
}
